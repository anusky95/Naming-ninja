{
  "nbformat": 4,
  "nbformat_minor": 0,
  "metadata": {
    "colab": {
      "name": "NameGeneration.ipynb",
      "version": "0.3.2",
      "provenance": []
    },
    "kernelspec": {
      "display_name": "Python 3",
      "language": "python",
      "name": "python3"
    }
  },
  "cells": [
    {
      "metadata": {
        "id": "I-Lo4JCmdO19",
        "colab_type": "code",
        "colab": {}
      },
      "cell_type": "code",
      "source": [
        "import numpy as np\n",
        "import torch\n",
        "from torch import nn\n",
        "import torch.nn.functional as F\n",
        "import sys\n",
        "import numpy as np\n",
        "import pandas as pd\n"
      ],
      "execution_count": 0,
      "outputs": []
    },
    {
      "metadata": {
        "id": "2q6PoxD0dgQu",
        "colab_type": "code",
        "colab": {}
      },
      "cell_type": "code",
      "source": [
        "# http://pytorch.org/\n",
        "from os.path import exists\n",
        "from wheel.pep425tags import get_abbr_impl, get_impl_ver, get_abi_tag\n",
        "platform = '{}{}-{}'.format(get_abbr_impl(), get_impl_ver(), get_abi_tag())\n",
        "cuda_output = !ldconfig -p|grep cudart.so|sed -e 's/.*\\.\\([0-9]*\\)\\.\\([0-9]*\\)$/cu\\1\\2/'\n",
        "accelerator = cuda_output[0] if exists('/dev/nvidia0') else 'cpu'\n",
        "\n",
        "!pip install -q http://download.pytorch.org/whl/{accelerator}/torch-0.4.1-{platform}-linux_x86_64.whl torchvision\n",
        "import torch"
      ],
      "execution_count": 0,
      "outputs": []
    },
    {
      "metadata": {
        "id": "bv8fcRDcfnFd",
        "colab_type": "code",
        "colab": {
          "base_uri": "https://localhost:8080/",
          "height": 125
        },
        "outputId": "0781ff8e-212a-4189-b189-bc3260659909"
      },
      "cell_type": "code",
      "source": [
        "from google.colab import drive\n",
        "drive.mount('/content/gdrive')\n",
        "!ls \"/content/gdrive/My Drive/PytorchScholarshipChallenge\"\n"
      ],
      "execution_count": 3,
      "outputs": [
        {
          "output_type": "stream",
          "text": [
            "Drive already mounted at /content/gdrive; to attempt to forcibly remount, call drive.mount(\"/content/gdrive\", force_remount=True).\n",
            "' ChallengeLab.ipynb'   flower_data.zip        requirementlist.txt\n",
            " classifier_flower.pt   flowerResnet.ipynb     TextCreation.ipynb\n",
            " classifier.pth         names.txt\t       Untitled0.ipynb\n",
            " flower_classifier.pt   requirementlist.gdoc\n"
          ],
          "name": "stdout"
        }
      ]
    },
    {
      "metadata": {
        "id": "6Eoe4BE4dO2K",
        "colab_type": "code",
        "colab": {}
      },
      "cell_type": "code",
      "source": [
        "\n",
        "# open text file and read in data as `text`\n",
        "with open('/content/gdrive/My Drive/PytorchScholarshipChallenge/names.txt', 'r') as f:\n",
        "    text = f.read()"
      ],
      "execution_count": 0,
      "outputs": []
    },
    {
      "metadata": {
        "id": "a5crYEMldO2O",
        "colab_type": "code",
        "colab": {
          "base_uri": "https://localhost:8080/",
          "height": 141
        },
        "outputId": "48758a7e-5d30-428b-fc50-e7aab1e63603"
      },
      "cell_type": "code",
      "source": [
        "print(text[:100])"
      ],
      "execution_count": 5,
      "outputs": [
        {
          "output_type": "stream",
          "text": [
            "﻿Aaron, Hank\n",
            "Abagnale, Frank\n",
            "Abbey, Edward\n",
            "Abel, Reuben\n",
            "Abelson, Hal\n",
            "Abourezk, James\n",
            "Abrams, Creight\n"
          ],
          "name": "stdout"
        }
      ]
    },
    {
      "metadata": {
        "id": "gs6uLx0VdO2T",
        "colab_type": "code",
        "colab": {
          "base_uri": "https://localhost:8080/",
          "height": 34
        },
        "outputId": "93fa0bfb-70e3-42c6-dd76-af345e6f1ae6"
      },
      "cell_type": "code",
      "source": [
        "chars = tuple(set(text))\n",
        "int2char = dict(enumerate(chars))\n",
        "char2int = {ch:ii for ii, ch in int2char.items()}\n",
        "\n",
        "encoded = np.array([char2int[ch] for ch in text])\n",
        "print(encoded)"
      ],
      "execution_count": 6,
      "outputs": [
        {
          "output_type": "stream",
          "text": [
            "[62 32 77 ... 64 22 34]\n"
          ],
          "name": "stdout"
        }
      ]
    },
    {
      "metadata": {
        "id": "vMENp0zLdO2V",
        "colab_type": "code",
        "colab": {
          "base_uri": "https://localhost:8080/",
          "height": 123
        },
        "outputId": "b23e7b85-3fe7-4e8d-e7eb-1e70be8fc445"
      },
      "cell_type": "code",
      "source": [
        "encoded[:100]"
      ],
      "execution_count": 7,
      "outputs": [
        {
          "output_type": "execute_result",
          "data": {
            "text/plain": [
              "array([62, 32, 77, 23, 10, 86, 40, 51, 18, 77, 86, 22, 34, 32,  4, 77, 47,\n",
              "       86, 77, 87, 64, 40, 51,  6, 23, 77, 86, 22, 34, 32,  4,  4, 64, 72,\n",
              "       40, 51, 80, 76, 81, 77, 23, 76, 34, 32,  4, 64, 87, 40, 51,  3, 64,\n",
              "       12,  4, 64, 86, 34, 32,  4, 64, 87, 61, 10, 86, 40, 51, 18, 77, 87,\n",
              "       34, 32,  4, 10, 12, 23, 64, 21, 22, 40, 51, 19, 77, 27, 64, 61, 34,\n",
              "       32,  4, 23, 77, 27, 61, 40, 51, 53, 23, 64, 31, 47, 89, 36])"
            ]
          },
          "metadata": {
            "tags": []
          },
          "execution_count": 7
        }
      ]
    },
    {
      "metadata": {
        "id": "vRcgKXXsdO2Z",
        "colab_type": "code",
        "colab": {}
      },
      "cell_type": "code",
      "source": [
        "def one_hot_encode(arr, n_labels):\n",
        "    \n",
        "    # Initialize the the encoded array\n",
        "    one_hot = np.zeros((np.multiply(*arr.shape), n_labels), dtype=np.float32)\n",
        "    \n",
        "    # Fill the appropriate elements with ones\n",
        "    one_hot[np.arange(one_hot.shape[0]), arr.flatten()] = 1.\n",
        "    \n",
        "    # Finally reshape it to get back to the original array\n",
        "    one_hot = one_hot.reshape((*arr.shape, n_labels))\n",
        "    \n",
        "    return one_hot"
      ],
      "execution_count": 0,
      "outputs": []
    },
    {
      "metadata": {
        "id": "dMuT8ql1dO2c",
        "colab_type": "code",
        "colab": {
          "base_uri": "https://localhost:8080/",
          "height": 70
        },
        "outputId": "b0186631-e2bb-44f4-bb47-b91d2af596a9"
      },
      "cell_type": "code",
      "source": [
        "test_seq = np.array([[3, 5, 1]])\n",
        "one_hot = one_hot_encode(test_seq, 8)\n",
        "\n",
        "print(one_hot)"
      ],
      "execution_count": 9,
      "outputs": [
        {
          "output_type": "stream",
          "text": [
            "[[[0. 0. 0. 1. 0. 0. 0. 0.]\n",
            "  [0. 0. 0. 0. 0. 1. 0. 0.]\n",
            "  [0. 1. 0. 0. 0. 0. 0. 0.]]]\n"
          ],
          "name": "stdout"
        }
      ]
    },
    {
      "metadata": {
        "id": "xYVAber0dO2f",
        "colab_type": "code",
        "colab": {}
      },
      "cell_type": "code",
      "source": [
        "def get_batches(arr, batch_size, seq_length):\n",
        "    '''Create a generator that returns batches of size\n",
        "       batch_size x seq_length from arr.\n",
        "       \n",
        "       Arguments\n",
        "       ---------\n",
        "       arr: Array you want to make batches from\n",
        "       batch_size: Batch size, the number of sequences per batch\n",
        "       seq_length: Number of encoded chars in a sequence\n",
        "    '''\n",
        "    \n",
        "    batch_size_total = batch_size * seq_length\n",
        "    # total number of batches we can make\n",
        "    n_batches = len(arr)//batch_size_total\n",
        "    \n",
        "    # Keep only enough characters to make full batches\n",
        "    arr = arr[:n_batches * batch_size_total]\n",
        "    # Reshape into batch_size rows\n",
        "    arr = arr.reshape((batch_size, -1))\n",
        "    \n",
        "    # iterate through the array, one sequence at a time\n",
        "    for n in range(0, arr.shape[1], seq_length):\n",
        "        # The features\n",
        "        x = arr[:, n:n+seq_length]\n",
        "        # The targets, shifted by one\n",
        "        y = np.zeros_like(x)\n",
        "        try:\n",
        "            y[:, :-1], y[:, -1] = x[:, 1:], arr[:, n+seq_length]\n",
        "        except IndexError:\n",
        "            y[:, :-1], y[:, -1] = x[:, 1:], arr[:, 0]\n",
        "        yield x, y"
      ],
      "execution_count": 0,
      "outputs": []
    },
    {
      "metadata": {
        "id": "064iVx0RdO2i",
        "colab_type": "code",
        "colab": {}
      },
      "cell_type": "code",
      "source": [
        "batches = get_batches(encoded, 8, 50)\n",
        "x, y = next(batches)"
      ],
      "execution_count": 0,
      "outputs": []
    },
    {
      "metadata": {
        "id": "6r4pMnOydO2k",
        "colab_type": "code",
        "colab": {
          "base_uri": "https://localhost:8080/",
          "height": 354
        },
        "outputId": "9b5bdd85-aeee-48a3-cccc-3f798a64edd7"
      },
      "cell_type": "code",
      "source": [
        "# printing out the first 10 items in a sequence\n",
        "print('x\\n', x[:10, :10])\n",
        "print('\\ny\\n', y[:10, :10])"
      ],
      "execution_count": 12,
      "outputs": [
        {
          "output_type": "stream",
          "text": [
            "x\n",
            " [[62 32 77 23 10 86 40 51 18 77]\n",
            " [ 2 23 77 86 76 10 40 51  1 77]\n",
            " [34 53 12 27 27 31 86 47 61 40]\n",
            " [77 86 68 73 10 12 31 61 34 56]\n",
            " [64 34 19 77 88 22 61 10 86 40]\n",
            " [51 52 31 88 88 10 87 10 34  1]\n",
            " [36 10 86 40 51 56 64 10 23 47]\n",
            " [63 12 61 77 86 34 63 10 10 86]]\n",
            "\n",
            "y\n",
            " [[32 77 23 10 86 40 51 18 77 86]\n",
            " [23 77 86 76 10 40 51  1 77 23]\n",
            " [53 12 27 27 31 86 47 61 40 51]\n",
            " [86 68 73 10 12 31 61 34 56 77]\n",
            " [34 19 77 88 22 61 10 86 40 51]\n",
            " [52 31 88 88 10 87 10 34  1 77]\n",
            " [10 86 40 51 56 64 10 23 47 64]\n",
            " [12 61 77 86 34 63 10 10 86 47]]\n"
          ],
          "name": "stdout"
        }
      ]
    },
    {
      "metadata": {
        "id": "2RdAS_UodO2n",
        "colab_type": "code",
        "outputId": "aa55dbc0-17f8-48fd-c914-9327d2471659",
        "colab": {
          "base_uri": "https://localhost:8080/",
          "height": 34
        }
      },
      "cell_type": "code",
      "source": [
        "# check if GPU is available\n",
        "train_on_gpu = torch.cuda.is_available()\n",
        "if(train_on_gpu):\n",
        "    print('Training on GPU!')\n",
        "else: \n",
        "    print('No GPU available, training on CPU; consider making n_epochs very small.')"
      ],
      "execution_count": 13,
      "outputs": [
        {
          "output_type": "stream",
          "text": [
            "No GPU available, training on CPU; consider making n_epochs very small.\n"
          ],
          "name": "stdout"
        }
      ]
    },
    {
      "metadata": {
        "id": "UFb56MXddO2q",
        "colab_type": "code",
        "colab": {}
      },
      "cell_type": "code",
      "source": [
        "class CharRNN(nn.Module):\n",
        "    \n",
        "    def __init__(self, tokens, n_hidden=256, n_layers=2,\n",
        "                               drop_prob=0.5, lr=0.001):\n",
        "        super().__init__()\n",
        "        self.drop_prob = drop_prob\n",
        "        self.n_layers = n_layers\n",
        "        self.n_hidden = n_hidden\n",
        "        self.lr = lr\n",
        "        \n",
        "        # creating character dictionaries\n",
        "        self.chars = tokens\n",
        "        self.int2char = dict(enumerate(self.chars))\n",
        "        self.char2int = {ch: ii for ii, ch in self.int2char.items()}\n",
        "        \n",
        "        ## TODO: define the LSTM\n",
        "        self.lstm = nn.LSTM(len(self.chars), n_hidden, n_layers, \n",
        "                            dropout=drop_prob, batch_first=True)\n",
        "        \n",
        "        ## TODO: define a dropout layer\n",
        "        self.dropout = nn.Dropout(drop_prob)\n",
        "        \n",
        "        ## TODO: define the final, fully-connected output layer\n",
        "        self.fc = nn.Linear(n_hidden, len(self.chars))\n",
        "      \n",
        "    \n",
        "    def forward(self, x, hidden):\n",
        "        ''' Forward pass through the network. \n",
        "            These inputs are x, and the hidden/cell state `hidden`. '''\n",
        "                \n",
        "        ## TODO: Get the outputs and the new hidden state from the lstm\n",
        "        r_output, hidden = self.lstm(x, hidden)\n",
        "        \n",
        "        ## TODO: pass through a dropout layer\n",
        "        out = self.dropout(r_output)\n",
        "        \n",
        "        # Stack up LSTM outputs using view\n",
        "        # you may need to use contiguous to reshape the output\n",
        "        out = out.contiguous().view(-1, self.n_hidden)\n",
        "        \n",
        "        ## TODO: put x through the fully-connected layer\n",
        "        out = self.fc(out)\n",
        "        \n",
        "        # return the final output and the hidden state\n",
        "        return out, hidden\n",
        "    \n",
        "    \n",
        "    def init_hidden(self, batch_size):\n",
        "        ''' Initializes hidden state '''\n",
        "        # Create two new tensors with sizes n_layers x batch_size x n_hidden,\n",
        "        # initialized to zero, for hidden state and cell state of LSTM\n",
        "        weight = next(self.parameters()).data\n",
        "        \n",
        "        if (train_on_gpu):\n",
        "            hidden = (weight.new(self.n_layers, batch_size, self.n_hidden).zero_().cuda(),\n",
        "                  weight.new(self.n_layers, batch_size, self.n_hidden).zero_().cuda())\n",
        "        else:\n",
        "            hidden = (weight.new(self.n_layers, batch_size, self.n_hidden).zero_(),\n",
        "                      weight.new(self.n_layers, batch_size, self.n_hidden).zero_())\n",
        "        \n",
        "        return hidden"
      ],
      "execution_count": 0,
      "outputs": []
    },
    {
      "metadata": {
        "id": "8puBuAf6g-fU",
        "colab_type": "code",
        "colab": {}
      },
      "cell_type": "code",
      "source": [
        "def train(net, data, epochs=10, batch_size=10, seq_length=50, lr=0.001, clip=5, val_frac=0.1, print_every=10):\n",
        "    ''' Training a network \n",
        "    \n",
        "        Arguments\n",
        "        ---------\n",
        "        \n",
        "        net: CharRNN network\n",
        "        data: text data to train the network\n",
        "        epochs: Number of epochs to train\n",
        "        batch_size: Number of mini-sequences per mini-batch, aka batch size\n",
        "        seq_length: Number of character steps per mini-batch\n",
        "        lr: learning rate\n",
        "        clip: gradient clipping\n",
        "        val_frac: Fraction of data to hold out for validation\n",
        "        print_every: Number of steps for printing training and validation loss\n",
        "    \n",
        "    '''\n",
        "    net.train()\n",
        "    \n",
        "    opt = torch.optim.Adam(net.parameters(), lr=lr)\n",
        "    criterion = nn.CrossEntropyLoss()\n",
        "    \n",
        "    # create training and validation data\n",
        "    val_idx = int(len(data)*(1-val_frac))\n",
        "    data, val_data = data[:val_idx], data[val_idx:]\n",
        "    \n",
        "    if(train_on_gpu):\n",
        "        net.cuda()\n",
        "    \n",
        "    counter = 0\n",
        "    n_chars = len(net.chars)\n",
        "    for e in range(epochs):\n",
        "        # initialize hidden state\n",
        "        h = net.init_hidden(batch_size)\n",
        "        \n",
        "        for x, y in get_batches(data, batch_size, seq_length):\n",
        "            counter += 1\n",
        "            \n",
        "            # One-hot encode our data and make them Torch tensors\n",
        "            x = one_hot_encode(x, n_chars)\n",
        "            inputs, targets = torch.from_numpy(x), torch.from_numpy(y)\n",
        "            \n",
        "            if(train_on_gpu):\n",
        "                inputs, targets = inputs.cuda(), targets.cuda()\n",
        "\n",
        "            # Creating new variables for the hidden state, otherwise\n",
        "            # we'd backprop through the entire training history\n",
        "            h = tuple([each.data for each in h])\n",
        "\n",
        "            # zero accumulated gradients\n",
        "            net.zero_grad()\n",
        "            \n",
        "            # get the output from the model\n",
        "            output, h = net(inputs, h)\n",
        "            \n",
        "            # calculate the loss and perform backprop\n",
        "            loss = criterion(output, targets.view(batch_size*seq_length))\n",
        "            loss.backward()\n",
        "            # `clip_grad_norm` helps prevent the exploding gradient problem in RNNs / LSTMs.\n",
        "            nn.utils.clip_grad_norm_(net.parameters(), clip)\n",
        "            opt.step()\n",
        "            \n",
        "            # loss stats\n",
        "            if counter % print_every == 0:\n",
        "                # Get validation loss\n",
        "                val_h = net.init_hidden(batch_size)\n",
        "                val_losses = []\n",
        "                net.eval()\n",
        "                for x, y in get_batches(val_data, batch_size, seq_length):\n",
        "                    # One-hot encode our data and make them Torch tensors\n",
        "                    x = one_hot_encode(x, n_chars)\n",
        "                    x, y = torch.from_numpy(x), torch.from_numpy(y)\n",
        "                    \n",
        "                    # Creating new variables for the hidden state, otherwise\n",
        "                    # we'd backprop through the entire training history\n",
        "                    val_h = tuple([each.data for each in val_h])\n",
        "                    \n",
        "                    inputs, targets = x, y\n",
        "                    if(train_on_gpu):\n",
        "                        inputs, targets = inputs.cuda(), targets.cuda()\n",
        "\n",
        "                    output, val_h = net(inputs, val_h)\n",
        "                    val_loss = criterion(output, targets.view(batch_size*seq_length))\n",
        "                \n",
        "                    val_losses.append(val_loss.item())\n",
        "                \n",
        "                net.train() # reset to train mode after iterationg through validation data\n",
        "                \n",
        "                print(\"Epoch: {}/{}...\".format(e+1, epochs),\n",
        "                      \"Step: {}...\".format(counter),\n",
        "                      \"Loss: {:.4f}...\".format(loss.item()),\n",
        "                      \"Val Loss: {:.4f}\".format(np.mean(val_losses)))"
      ],
      "execution_count": 0,
      "outputs": []
    },
    {
      "metadata": {
        "id": "vDL5t3bwhHBM",
        "colab_type": "code",
        "colab": {
          "base_uri": "https://localhost:8080/",
          "height": 105
        },
        "outputId": "cf913254-38ad-48b4-9900-5ee3decbb14c"
      },
      "cell_type": "code",
      "source": [
        "# define and print the net\n",
        "n_hidden=512\n",
        "n_layers=2\n",
        "\n",
        "net = CharRNN(chars, n_hidden, n_layers)\n",
        "print(net)"
      ],
      "execution_count": 16,
      "outputs": [
        {
          "output_type": "stream",
          "text": [
            "CharRNN(\n",
            "  (lstm): LSTM(90, 512, num_layers=2, batch_first=True, dropout=0.5)\n",
            "  (dropout): Dropout(p=0.5)\n",
            "  (fc): Linear(in_features=512, out_features=90, bias=True)\n",
            ")\n"
          ],
          "name": "stdout"
        }
      ]
    },
    {
      "metadata": {
        "id": "mMrjkTovhLc3",
        "colab_type": "code",
        "colab": {
          "base_uri": "https://localhost:8080/",
          "height": 1616
        },
        "outputId": "a8eebd78-337d-4ea1-f280-bee322af6dae"
      },
      "cell_type": "code",
      "source": [
        "batch_size = 128\n",
        "seq_length = 5\n",
        "n_epochs = 20 # start smaller if you are just testing initial behavior\n",
        "\n",
        "# train the model\n",
        "train(net, encoded, epochs=n_epochs, batch_size=batch_size, seq_length=seq_length, lr=0.001, print_every=10)"
      ],
      "execution_count": 17,
      "outputs": [
        {
          "output_type": "stream",
          "text": [
            "Epoch: 1/20... Step: 10... Loss: 3.7105... Val Loss: 3.7070\n",
            "Epoch: 1/20... Step: 20... Loss: 3.5198... Val Loss: 3.6280\n",
            "Epoch: 1/20... Step: 30... Loss: 3.4624... Val Loss: 3.5892\n",
            "Epoch: 1/20... Step: 40... Loss: 3.4613... Val Loss: 3.6021\n",
            "Epoch: 2/20... Step: 50... Loss: 3.4638... Val Loss: 3.5867\n",
            "Epoch: 2/20... Step: 60... Loss: 3.3585... Val Loss: 3.5638\n",
            "Epoch: 2/20... Step: 70... Loss: 3.4840... Val Loss: 3.5566\n",
            "Epoch: 2/20... Step: 80... Loss: 3.4437... Val Loss: 3.5527\n",
            "Epoch: 2/20... Step: 90... Loss: 3.4412... Val Loss: 3.5309\n",
            "Epoch: 3/20... Step: 100... Loss: 3.3465... Val Loss: 3.4643\n",
            "Epoch: 3/20... Step: 110... Loss: 3.3404... Val Loss: 3.3606\n",
            "Epoch: 3/20... Step: 120... Loss: 3.1257... Val Loss: 3.2734\n",
            "Epoch: 3/20... Step: 130... Loss: 2.9134... Val Loss: 3.1617\n",
            "Epoch: 4/20... Step: 140... Loss: 2.9095... Val Loss: 3.0992\n",
            "Epoch: 4/20... Step: 150... Loss: 2.8075... Val Loss: 3.0164\n",
            "Epoch: 4/20... Step: 160... Loss: 2.7733... Val Loss: 2.9479\n",
            "Epoch: 4/20... Step: 170... Loss: 2.7051... Val Loss: 2.9555\n",
            "Epoch: 4/20... Step: 180... Loss: 3.0722... Val Loss: 2.9132\n",
            "Epoch: 5/20... Step: 190... Loss: 2.7146... Val Loss: 2.8643\n",
            "Epoch: 5/20... Step: 200... Loss: 2.6851... Val Loss: 2.8398\n",
            "Epoch: 5/20... Step: 210... Loss: 2.5953... Val Loss: 2.8416\n",
            "Epoch: 5/20... Step: 220... Loss: 2.4974... Val Loss: 2.8367\n",
            "Epoch: 6/20... Step: 230... Loss: 2.5779... Val Loss: 2.8251\n",
            "Epoch: 6/20... Step: 240... Loss: 2.5282... Val Loss: 2.7778\n",
            "Epoch: 6/20... Step: 250... Loss: 2.5211... Val Loss: 2.8050\n",
            "Epoch: 6/20... Step: 260... Loss: 2.4730... Val Loss: 2.7962\n",
            "Epoch: 6/20... Step: 270... Loss: 2.9477... Val Loss: 2.7972\n",
            "Epoch: 7/20... Step: 280... Loss: 2.4941... Val Loss: 2.7514\n",
            "Epoch: 7/20... Step: 290... Loss: 2.5410... Val Loss: 2.7536\n",
            "Epoch: 7/20... Step: 300... Loss: 2.4530... Val Loss: 2.7309\n",
            "Epoch: 7/20... Step: 310... Loss: 2.3760... Val Loss: 2.7516\n",
            "Epoch: 8/20... Step: 320... Loss: 2.4410... Val Loss: 2.7362\n",
            "Epoch: 8/20... Step: 330... Loss: 2.4551... Val Loss: 2.7524\n",
            "Epoch: 8/20... Step: 340... Loss: 2.3844... Val Loss: 2.7259\n",
            "Epoch: 8/20... Step: 350... Loss: 2.4042... Val Loss: 2.7296\n",
            "Epoch: 8/20... Step: 360... Loss: 2.9300... Val Loss: 2.7144\n",
            "Epoch: 9/20... Step: 370... Loss: 2.3610... Val Loss: 2.6947\n",
            "Epoch: 9/20... Step: 380... Loss: 2.4602... Val Loss: 2.7351\n",
            "Epoch: 9/20... Step: 390... Loss: 2.3483... Val Loss: 2.7009\n",
            "Epoch: 9/20... Step: 400... Loss: 2.2962... Val Loss: 2.7340\n",
            "Epoch: 10/20... Step: 410... Loss: 2.3770... Val Loss: 2.6726\n",
            "Epoch: 10/20... Step: 420... Loss: 2.3614... Val Loss: 2.6646\n",
            "Epoch: 10/20... Step: 430... Loss: 2.2761... Val Loss: 2.6635\n",
            "Epoch: 10/20... Step: 440... Loss: 2.3283... Val Loss: 2.6842\n",
            "Epoch: 10/20... Step: 450... Loss: 2.8704... Val Loss: 2.6855\n",
            "Epoch: 11/20... Step: 460... Loss: 2.2755... Val Loss: 2.6546\n",
            "Epoch: 11/20... Step: 470... Loss: 2.3306... Val Loss: 2.6638\n",
            "Epoch: 11/20... Step: 480... Loss: 2.2802... Val Loss: 2.6594\n",
            "Epoch: 11/20... Step: 490... Loss: 2.2288... Val Loss: 2.6793\n",
            "Epoch: 12/20... Step: 500... Loss: 2.3041... Val Loss: 2.6406\n",
            "Epoch: 12/20... Step: 510... Loss: 2.3081... Val Loss: 2.6372\n",
            "Epoch: 12/20... Step: 520... Loss: 2.1817... Val Loss: 2.6510\n",
            "Epoch: 12/20... Step: 530... Loss: 2.2634... Val Loss: 2.6550\n",
            "Epoch: 12/20... Step: 540... Loss: 2.8235... Val Loss: 2.6556\n",
            "Epoch: 13/20... Step: 550... Loss: 2.1976... Val Loss: 2.6202\n",
            "Epoch: 13/20... Step: 560... Loss: 2.2961... Val Loss: 2.6741\n",
            "Epoch: 13/20... Step: 570... Loss: 2.1987... Val Loss: 2.6545\n",
            "Epoch: 13/20... Step: 580... Loss: 2.1634... Val Loss: 2.6529\n",
            "Epoch: 14/20... Step: 590... Loss: 2.2735... Val Loss: 2.6312\n",
            "Epoch: 14/20... Step: 600... Loss: 2.2248... Val Loss: 2.6170\n",
            "Epoch: 14/20... Step: 610... Loss: 2.1205... Val Loss: 2.6364\n",
            "Epoch: 14/20... Step: 620... Loss: 2.1578... Val Loss: 2.6364\n",
            "Epoch: 14/20... Step: 630... Loss: 2.7854... Val Loss: 2.6554\n",
            "Epoch: 15/20... Step: 640... Loss: 2.1265... Val Loss: 2.6038\n",
            "Epoch: 15/20... Step: 650... Loss: 2.2113... Val Loss: 2.6243\n",
            "Epoch: 15/20... Step: 660... Loss: 2.1587... Val Loss: 2.6295\n",
            "Epoch: 15/20... Step: 670... Loss: 2.1310... Val Loss: 2.6340\n",
            "Epoch: 16/20... Step: 680... Loss: 2.2100... Val Loss: 2.6201\n",
            "Epoch: 16/20... Step: 690... Loss: 2.1203... Val Loss: 2.6084\n",
            "Epoch: 16/20... Step: 700... Loss: 2.0360... Val Loss: 2.6160\n",
            "Epoch: 16/20... Step: 710... Loss: 2.1242... Val Loss: 2.6139\n",
            "Epoch: 16/20... Step: 720... Loss: 2.7088... Val Loss: 2.6391\n",
            "Epoch: 17/20... Step: 730... Loss: 2.0934... Val Loss: 2.6056\n",
            "Epoch: 17/20... Step: 740... Loss: 2.1797... Val Loss: 2.6073\n",
            "Epoch: 17/20... Step: 750... Loss: 2.0907... Val Loss: 2.6058\n",
            "Epoch: 17/20... Step: 760... Loss: 2.0812... Val Loss: 2.6271\n",
            "Epoch: 18/20... Step: 770... Loss: 2.1127... Val Loss: 2.6155\n",
            "Epoch: 18/20... Step: 780... Loss: 2.0722... Val Loss: 2.5863\n",
            "Epoch: 18/20... Step: 790... Loss: 1.9897... Val Loss: 2.5993\n",
            "Epoch: 18/20... Step: 800... Loss: 2.0610... Val Loss: 2.6003\n",
            "Epoch: 18/20... Step: 810... Loss: 2.6471... Val Loss: 2.6222\n",
            "Epoch: 19/20... Step: 820... Loss: 2.0317... Val Loss: 2.6044\n",
            "Epoch: 19/20... Step: 830... Loss: 2.1071... Val Loss: 2.5884\n",
            "Epoch: 19/20... Step: 840... Loss: 2.0461... Val Loss: 2.5976\n",
            "Epoch: 19/20... Step: 850... Loss: 2.0122... Val Loss: 2.6035\n",
            "Epoch: 20/20... Step: 860... Loss: 2.0442... Val Loss: 2.6068\n",
            "Epoch: 20/20... Step: 870... Loss: 2.0282... Val Loss: 2.5728\n",
            "Epoch: 20/20... Step: 880... Loss: 1.9324... Val Loss: 2.5642\n",
            "Epoch: 20/20... Step: 890... Loss: 2.0272... Val Loss: 2.5960\n",
            "Epoch: 20/20... Step: 900... Loss: 2.5731... Val Loss: 2.6247\n"
          ],
          "name": "stdout"
        }
      ]
    },
    {
      "metadata": {
        "id": "qxsZ4jBzlk-b",
        "colab_type": "code",
        "colab": {}
      },
      "cell_type": "code",
      "source": [
        "\n",
        "# change the name, for saving multiple files\n",
        "model_name = 'rnn_20_epoch.net'\n",
        "\n",
        "checkpoint = {'n_hidden': net.n_hidden,\n",
        "              'n_layers': net.n_layers,\n",
        "              'state_dict': net.state_dict(),\n",
        "              'tokens': net.chars}\n",
        "\n",
        "with open(model_name, 'wb') as f:\n",
        "    torch.save(checkpoint, f)"
      ],
      "execution_count": 0,
      "outputs": []
    },
    {
      "metadata": {
        "id": "p5Ir76PrlpGJ",
        "colab_type": "code",
        "colab": {}
      },
      "cell_type": "code",
      "source": [
        "def predict(net, char, h=None, top_k=None):\n",
        "        ''' Given a character, predict the next character.\n",
        "            Returns the predicted character and the hidden state.\n",
        "        '''\n",
        "        \n",
        "        # tensor inputs\n",
        "        x = np.array([[net.char2int[char]]])\n",
        "        x = one_hot_encode(x, len(net.chars))\n",
        "        inputs = torch.from_numpy(x)\n",
        "        \n",
        "        if(train_on_gpu):\n",
        "            inputs = inputs.cuda()\n",
        "        \n",
        "        # detach hidden state from history\n",
        "        h = tuple([each.data for each in h])\n",
        "        # get the output of the model\n",
        "        out, h = net(inputs, h)\n",
        "\n",
        "        # get the character probabilities\n",
        "        p = F.softmax(out, dim=1).data\n",
        "        if(train_on_gpu):\n",
        "            p = p.cpu() # move to cpu\n",
        "        \n",
        "        # get top characters\n",
        "        if top_k is None:\n",
        "            top_ch = np.arange(len(net.chars))\n",
        "        else:\n",
        "            p, top_ch = p.topk(top_k)\n",
        "            top_ch = top_ch.numpy().squeeze()\n",
        "        \n",
        "        # select the likely next character with some element of randomness\n",
        "        p = p.numpy().squeeze()\n",
        "        char = np.random.choice(top_ch, p=p/p.sum())\n",
        "        \n",
        "        # return the encoded value of the predicted char and the hidden state\n",
        "        return net.int2char[char], h"
      ],
      "execution_count": 0,
      "outputs": []
    },
    {
      "metadata": {
        "id": "tS9RO0hIlqbY",
        "colab_type": "code",
        "colab": {}
      },
      "cell_type": "code",
      "source": [
        "def sample(net, size, prime='The', top_k=None):\n",
        "        \n",
        "    if(train_on_gpu):\n",
        "        net.cuda()\n",
        "    else:\n",
        "        net.cpu()\n",
        "    \n",
        "    net.eval() # eval mode\n",
        "    \n",
        "    # First off, run through the prime characters\n",
        "    chars = [ch for ch in prime]\n",
        "    h = net.init_hidden(1)\n",
        "    for ch in prime:\n",
        "        char, h = predict(net, ch, h, top_k=top_k)\n",
        "\n",
        "    chars.append(char)\n",
        "    \n",
        "    # Now pass in the previous character and get a new one\n",
        "    for ii in range(size):\n",
        "        char, h = predict(net, chars[-1], h, top_k=top_k)\n",
        "        chars.append(char)\n",
        "\n",
        "    return ''.join(chars)"
      ],
      "execution_count": 0,
      "outputs": []
    },
    {
      "metadata": {
        "id": "avy7egd4lvU8",
        "colab_type": "code",
        "colab": {
          "base_uri": "https://localhost:8080/",
          "height": 54
        },
        "outputId": "45efc031-d701-44c3-bf10-2c51e2385d55"
      },
      "cell_type": "code",
      "source": [
        "nameslist = sample(net, 1000, prime='anu', top_k=20)\n",
        "# print(nameslist)\n",
        "newnames = nameslist.split('\\n')\n",
        "newn = sorted(newnames)\n",
        "print\n",
        "print(newn)\n"
      ],
      "execution_count": 51,
      "outputs": [
        {
          "output_type": "stream",
          "text": [
            "['', 'Aldus, Anthumis', 'Allen, Duigel', 'An Hote, Oldernim', 'Andes, Juna', 'Bamte, Edi', 'Beblry, Miico', 'Berchald, Rosilor', 'Bicindon, Chrisdas', 'Biske, Ker', 'Biyneer, Alle', 'Blanigzin, Corby', 'Bohpraog, Josela)', 'Bullen, Bert', 'Buochlad, Jack', 'Burlon, Edico', 'Buurko f, He Eng', 'Callera', 'Calnesk, Anch', 'Careadedit', 'Cevelth, Margis', 'Collys, Loff', 'Corbingelli, Roterni', 'Crardisk, Jr.', 'Darycatrick', 'Dorkeg, Jebe', 'Eablitoveerath', 'Frack, Heberte', 'Fuxghonanterike', 'Gel-Ho', 'Genry', 'Giangod, Wilm', 'Grichen, Petrale', 'Gudland, Helury Friece', 'Heem, Alison', 'Hikrissrey, Trompsonerc', 'Hiyneen, Muy', 'Hour, Eric', 'Howince, Lomine', 'Hriigero II, A.', 'Hripnermon, Francer)', 'Jinsonton, Duvady', 'Jomen, Garrda', 'Kank, Weldy', 'Kenebart, Mevin', 'Kunskav, Harie', 'Lratne, Curlenter)', 'Mascicess, John Ocf', 'Matwiel, Steve', 'McFrenk, Salles Rone', 'Merray, Jabe', 'Mibtan, Bary', 'Misoneono, Engere', 'Mudt, John', 'Nass, Richard', 'Noin, Thomas', 'Odwiager, Rof Shedsand onde', 'Ous, Roit', 'Peir, Grauca', 'Pertane, Rabart', 'Pery, Kawu', 'Piputh, Herrey', 'Qearson, Ederet Kuchender', 'Rabeus, Bald', 'Remarg, John', 'Schmerth, Aerly', 'Socs, Piin', 'name, Jaun']\n"
          ],
          "name": "stdout"
        }
      ]
    }
  ]
}